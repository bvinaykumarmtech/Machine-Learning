{
  "nbformat": 4,
  "nbformat_minor": 0,
  "metadata": {
    "colab": {
      "name": "Python Basics(23-02-2022).ipynb",
      "provenance": [],
      "authorship_tag": "ABX9TyPtjc1XX07TRPCuptFstMS5",
      "include_colab_link": true
    },
    "kernelspec": {
      "name": "python3",
      "display_name": "Python 3"
    },
    "language_info": {
      "name": "python"
    }
  },
  "cells": [
    {
      "cell_type": "markdown",
      "metadata": {
        "id": "view-in-github",
        "colab_type": "text"
      },
      "source": [
        "<a href=\"https://colab.research.google.com/github/bvinaykumarmtech/Machine-Learning/blob/main/Python_Basics(23_02_2022).ipynb\" target=\"_parent\"><img src=\"https://colab.research.google.com/assets/colab-badge.svg\" alt=\"Open In Colab\"/></a>"
      ]
    },
    {
      "cell_type": "code",
      "execution_count": 1,
      "metadata": {
        "id": "xPTEqcnu5WC5"
      },
      "outputs": [],
      "source": [
        "# Python Basics"
      ]
    },
    {
      "cell_type": "code",
      "source": [
        "a = 10\n",
        "b = 20\n",
        "while a<=b: # 10<=20, 11<=20, 12<=20,.....20<=20, 21<=20\n",
        "  print(a) # 10, 11, 12... 20\n",
        "  a=a+1 # 11, 12,... 21\n",
        "print(\"After While\")"
      ],
      "metadata": {
        "colab": {
          "base_uri": "https://localhost:8080/"
        },
        "id": "xPgElYb0AHL8",
        "outputId": "70adcb4d-4b01-464b-bf35-22cf818fdb9a"
      },
      "execution_count": 5,
      "outputs": [
        {
          "output_type": "stream",
          "name": "stdout",
          "text": [
            "10\n",
            "11\n",
            "12\n",
            "13\n",
            "14\n",
            "15\n",
            "16\n",
            "17\n",
            "18\n",
            "19\n",
            "20\n",
            "After While\n"
          ]
        }
      ]
    },
    {
      "cell_type": "code",
      "source": [
        "for i in range(10, 0, -1):\n",
        "  print(i, end = ' ')\n",
        "  print('$', end = '')"
      ],
      "metadata": {
        "colab": {
          "base_uri": "https://localhost:8080/"
        },
        "id": "CbI3sMUYA93u",
        "outputId": "cecc79a2-4061-42b1-8221-1b5fc314b646"
      },
      "execution_count": 13,
      "outputs": [
        {
          "output_type": "stream",
          "name": "stdout",
          "text": [
            "10 $9 $8 $7 $6 $5 $4 $3 $2 $1 $"
          ]
        }
      ]
    },
    {
      "cell_type": "code",
      "source": [
        "# List in Python\n",
        "# List is a collection of Heterogenous Elements\n",
        "# List is Mutable\n",
        "# List supports indexing, Slicing\n",
        "# List supports few built-in functions like sum(), min(), max(), len() etc\n",
        "# Syntax: L = list()"
      ],
      "metadata": {
        "id": "DYT3HgWOBQsx"
      },
      "execution_count": 15,
      "outputs": []
    },
    {
      "cell_type": "code",
      "source": [
        "# How to Create an Empty List Object\n",
        "L = list()\n",
        "print(L)"
      ],
      "metadata": {
        "colab": {
          "base_uri": "https://localhost:8080/"
        },
        "id": "_NA9vKiXCST-",
        "outputId": "9b0aba36-ca7e-41b1-92ef-6b72737956e4"
      },
      "execution_count": 17,
      "outputs": [
        {
          "output_type": "stream",
          "name": "stdout",
          "text": [
            "[]\n"
          ]
        }
      ]
    },
    {
      "cell_type": "code",
      "source": [
        "# How to create a List with some elements\n",
        "L = [1, 2, 3, 4, 5]\n",
        "print(L)"
      ],
      "metadata": {
        "colab": {
          "base_uri": "https://localhost:8080/"
        },
        "id": "3bXrMOoxCxT4",
        "outputId": "8dddee42-084f-48a3-fa1d-3ad4714ccc60"
      },
      "execution_count": 18,
      "outputs": [
        {
          "output_type": "stream",
          "name": "stdout",
          "text": [
            "[1, 2, 3, 4, 5]\n"
          ]
        }
      ]
    },
    {
      "cell_type": "code",
      "source": [
        "for i in L:\n",
        "  print(i, end = ' ')"
      ],
      "metadata": {
        "colab": {
          "base_uri": "https://localhost:8080/"
        },
        "id": "IcA2McXnC9I-",
        "outputId": "83b72379-f741-4b6e-92c7-5dd433cd7a13"
      },
      "execution_count": 20,
      "outputs": [
        {
          "output_type": "stream",
          "name": "stdout",
          "text": [
            "1 2 3 4 5 "
          ]
        }
      ]
    },
    {
      "cell_type": "code",
      "source": [
        "# Length of List\n",
        "print(\"Length of the List is:  \", len(L))"
      ],
      "metadata": {
        "colab": {
          "base_uri": "https://localhost:8080/"
        },
        "id": "Zd_kg_e3DCap",
        "outputId": "39990274-c852-45cd-b434-8f2c0afb9b7b"
      },
      "execution_count": 22,
      "outputs": [
        {
          "output_type": "stream",
          "name": "stdout",
          "text": [
            "Length of the List is:   5\n"
          ]
        }
      ]
    },
    {
      "cell_type": "code",
      "source": [
        "# Find sum of List\n",
        "print(\"Sum of List is:  \", sum(L))"
      ],
      "metadata": {
        "colab": {
          "base_uri": "https://localhost:8080/"
        },
        "id": "sKBqwVcpDK1k",
        "outputId": "f4047c75-9eb4-4b51-878d-52a3877b9f6c"
      },
      "execution_count": 24,
      "outputs": [
        {
          "output_type": "stream",
          "name": "stdout",
          "text": [
            "Sum of List is:   15\n"
          ]
        }
      ]
    },
    {
      "cell_type": "code",
      "source": [
        "# Finding the minimum of List\n",
        "print(\"Minimum is:  \", min(L))"
      ],
      "metadata": {
        "colab": {
          "base_uri": "https://localhost:8080/"
        },
        "id": "XC2Yp65WDTDW",
        "outputId": "34dcc469-7f4c-465e-e001-a209f43bcd27"
      },
      "execution_count": 29,
      "outputs": [
        {
          "output_type": "stream",
          "name": "stdout",
          "text": [
            "Minimum is:   1\n"
          ]
        }
      ]
    },
    {
      "cell_type": "code",
      "source": [
        "# Maximum in the list\n",
        "print(\"Maximum is:  \", max(L))"
      ],
      "metadata": {
        "colab": {
          "base_uri": "https://localhost:8080/"
        },
        "id": "etFZ6Iv1DZfN",
        "outputId": "817625a1-5361-4c23-d41f-5dd8da98cd87"
      },
      "execution_count": 28,
      "outputs": [
        {
          "output_type": "stream",
          "name": "stdout",
          "text": [
            "Maximum is:   5\n"
          ]
        }
      ]
    },
    {
      "cell_type": "code",
      "source": [
        "# Creating List with Different types of Objects\n",
        "L1 = [1, 1.2, \"abc\", [1,2,3], (2+3j)]\n",
        "print(L1)"
      ],
      "metadata": {
        "colab": {
          "base_uri": "https://localhost:8080/"
        },
        "id": "j6dD0j4GDgIt",
        "outputId": "659a503c-c4a1-4d1d-ff62-6bc3f68e09c5"
      },
      "execution_count": 36,
      "outputs": [
        {
          "output_type": "stream",
          "name": "stdout",
          "text": [
            "[1, 1.2, 'abc', [1, 2, 3], (2+3j)]\n"
          ]
        }
      ]
    },
    {
      "cell_type": "code",
      "source": [
        "# Displaying List Elements one after the other\n",
        "for i in L1:\n",
        "  print(i)"
      ],
      "metadata": {
        "colab": {
          "base_uri": "https://localhost:8080/"
        },
        "id": "tx0ROTmcDzRU",
        "outputId": "b409a821-bd41-4f91-e3d2-8a788dd71e33"
      },
      "execution_count": 37,
      "outputs": [
        {
          "output_type": "stream",
          "name": "stdout",
          "text": [
            "1\n",
            "1.2\n",
            "abc\n",
            "[1, 2, 3]\n",
            "(2+3j)\n"
          ]
        }
      ]
    },
    {
      "cell_type": "code",
      "source": [
        "for i in range(len(L1)):\n",
        "  print(L1[i])"
      ],
      "metadata": {
        "colab": {
          "base_uri": "https://localhost:8080/"
        },
        "id": "SM3QNyUTD9z9",
        "outputId": "771be607-e332-47dc-dcdb-9ef794da2f50"
      },
      "execution_count": 38,
      "outputs": [
        {
          "output_type": "stream",
          "name": "stdout",
          "text": [
            "1\n",
            "1.2\n",
            "abc\n",
            "[1, 2, 3]\n",
            "(2+3j)\n"
          ]
        }
      ]
    },
    {
      "cell_type": "code",
      "source": [
        "L"
      ],
      "metadata": {
        "colab": {
          "base_uri": "https://localhost:8080/"
        },
        "id": "uOUp7_79EIum",
        "outputId": "f13d9aa5-2f2c-4465-875b-f8033fa30831"
      },
      "execution_count": 39,
      "outputs": [
        {
          "output_type": "execute_result",
          "data": {
            "text/plain": [
              "[1, 2, 3, 4, 5]"
            ]
          },
          "metadata": {},
          "execution_count": 39
        }
      ]
    },
    {
      "cell_type": "code",
      "source": [
        "print(L[-1])"
      ],
      "metadata": {
        "colab": {
          "base_uri": "https://localhost:8080/"
        },
        "id": "1KVsMBxSEdKj",
        "outputId": "ec041c2d-4bc9-4d33-8a97-39274b28e8d0"
      },
      "execution_count": 40,
      "outputs": [
        {
          "output_type": "stream",
          "name": "stdout",
          "text": [
            "5\n"
          ]
        }
      ]
    },
    {
      "cell_type": "code",
      "source": [
        "print(L[4])"
      ],
      "metadata": {
        "colab": {
          "base_uri": "https://localhost:8080/"
        },
        "id": "XmhHR6TBEhcq",
        "outputId": "65ff285e-b13c-4073-ce80-fc5a54434586"
      },
      "execution_count": 41,
      "outputs": [
        {
          "output_type": "stream",
          "name": "stdout",
          "text": [
            "5\n"
          ]
        }
      ]
    },
    {
      "cell_type": "code",
      "source": [
        "# Perform summation on List Elements with out using built-in functions\n",
        "L2 = [1, 2, 3, 4, 5, 6, 7, 8, 9, 10]\n",
        "SUM = 0\n",
        "for i in L2:\n",
        "  SUM = SUM + i\n",
        "print(\"The Sum of List is: \", SUM)"
      ],
      "metadata": {
        "colab": {
          "base_uri": "https://localhost:8080/"
        },
        "id": "YCd-b3vsEkkY",
        "outputId": "8a5e912a-0a99-46ce-f5f0-701e78575f05"
      },
      "execution_count": 43,
      "outputs": [
        {
          "output_type": "stream",
          "name": "stdout",
          "text": [
            "The Sum of List is:  55\n"
          ]
        }
      ]
    },
    {
      "cell_type": "code",
      "source": [
        "print(\"The Sum of List is: \", sum(L2))"
      ],
      "metadata": {
        "colab": {
          "base_uri": "https://localhost:8080/"
        },
        "id": "uW69pL8JE59h",
        "outputId": "5ed203cb-4ddd-4189-b86f-18a1bde59de1"
      },
      "execution_count": 45,
      "outputs": [
        {
          "output_type": "stream",
          "name": "stdout",
          "text": [
            "The Sum of List is:  55\n"
          ]
        }
      ]
    },
    {
      "cell_type": "code",
      "source": [
        "print(dir(list))"
      ],
      "metadata": {
        "colab": {
          "base_uri": "https://localhost:8080/"
        },
        "id": "TftsWiNSFg3x",
        "outputId": "3fc3ad95-29e4-4213-e394-4e0f429b5553"
      },
      "execution_count": 47,
      "outputs": [
        {
          "output_type": "stream",
          "name": "stdout",
          "text": [
            "['__add__', '__class__', '__contains__', '__delattr__', '__delitem__', '__dir__', '__doc__', '__eq__', '__format__', '__ge__', '__getattribute__', '__getitem__', '__gt__', '__hash__', '__iadd__', '__imul__', '__init__', '__init_subclass__', '__iter__', '__le__', '__len__', '__lt__', '__mul__', '__ne__', '__new__', '__reduce__', '__reduce_ex__', '__repr__', '__reversed__', '__rmul__', '__setattr__', '__setitem__', '__sizeof__', '__str__', '__subclasshook__', 'append', 'clear', 'copy', 'count', 'extend', 'index', 'insert', 'pop', 'remove', 'reverse', 'sort']\n"
          ]
        }
      ]
    },
    {
      "cell_type": "code",
      "source": [
        "# Demo on append()\n",
        "L = []\n",
        "print(L)\n",
        "L.append(1)\n",
        "L.append(\"Paul\")\n",
        "L.append(1.23)\n",
        "L.append([1, 2, 3])\n",
        "print(L)"
      ],
      "metadata": {
        "colab": {
          "base_uri": "https://localhost:8080/"
        },
        "id": "xfhrSVTlFwGq",
        "outputId": "e55b5a83-3d71-4ad5-a348-0587adcb9a92"
      },
      "execution_count": 52,
      "outputs": [
        {
          "output_type": "stream",
          "name": "stdout",
          "text": [
            "[]\n",
            "[1, 'Paul', 1.23, [1, 2, 3]]\n"
          ]
        }
      ]
    },
    {
      "cell_type": "code",
      "source": [
        "# Accessing using indexing\n",
        "print(L[1][2])\n",
        "print(L[3][-1])"
      ],
      "metadata": {
        "colab": {
          "base_uri": "https://localhost:8080/"
        },
        "id": "PApvbUfGGBJM",
        "outputId": "39981ee0-b595-47ff-e486-de8837f50b74"
      },
      "execution_count": 60,
      "outputs": [
        {
          "output_type": "stream",
          "name": "stdout",
          "text": [
            "u\n",
            "3\n"
          ]
        }
      ]
    },
    {
      "cell_type": "code",
      "source": [
        "# Accessing a group of elements of list (slicing)\n",
        "L = [1, 2, 3, 4, 5, 6, 7]\n",
        "print(L[2:5])"
      ],
      "metadata": {
        "colab": {
          "base_uri": "https://localhost:8080/"
        },
        "id": "h8oHZEtcGzS0",
        "outputId": "72540c07-b5a6-46e9-8c9b-0638e60b1972"
      },
      "execution_count": 61,
      "outputs": [
        {
          "output_type": "stream",
          "name": "stdout",
          "text": [
            "[3, 4, 5]\n"
          ]
        }
      ]
    },
    {
      "cell_type": "code",
      "source": [
        "print(help(L.append))"
      ],
      "metadata": {
        "colab": {
          "base_uri": "https://localhost:8080/"
        },
        "id": "b74vsYo0Hnuf",
        "outputId": "4f0cf38f-d9e2-477a-8fc7-7d2013b796c0"
      },
      "execution_count": 62,
      "outputs": [
        {
          "output_type": "stream",
          "name": "stdout",
          "text": [
            "Help on built-in function append:\n",
            "\n",
            "append(object, /) method of builtins.list instance\n",
            "    Append object to the end of the list.\n",
            "\n",
            "None\n"
          ]
        }
      ]
    },
    {
      "cell_type": "code",
      "source": [
        "# Count method\n",
        "L = [1, 2, 3, 4, 1, 2, 1, 2]\n",
        "print(L.count(1))"
      ],
      "metadata": {
        "colab": {
          "base_uri": "https://localhost:8080/"
        },
        "id": "EFbIjXq9H1oo",
        "outputId": "b99bae2c-1832-48bf-e292-869473e85645"
      },
      "execution_count": 69,
      "outputs": [
        {
          "output_type": "stream",
          "name": "stdout",
          "text": [
            "3\n"
          ]
        }
      ]
    },
    {
      "cell_type": "code",
      "source": [
        "# Demo on pop() - it takes index as argument (by default index is -1)\n",
        "L = [1, 2, 3, 4, 1, 2, 1, 2]\n",
        "print(L)\n",
        "print(L.pop(-2))\n",
        "print(L)"
      ],
      "metadata": {
        "colab": {
          "base_uri": "https://localhost:8080/"
        },
        "id": "loeQF14GH_EE",
        "outputId": "f75d290a-8cb6-4b85-c533-7527535c7dd0"
      },
      "execution_count": 88,
      "outputs": [
        {
          "output_type": "stream",
          "name": "stdout",
          "text": [
            "[1, 2, 3, 4, 1, 2, 1, 2]\n",
            "1\n",
            "[1, 2, 3, 4, 1, 2, 2]\n"
          ]
        }
      ]
    },
    {
      "cell_type": "code",
      "source": [
        "# Demo on extend()\n",
        "L = [1, 2, 3]\n",
        "print(L)\n",
        "L.extend(\"ABC\")\n",
        "L.extend([4,5,6])\n",
        "print(L)"
      ],
      "metadata": {
        "colab": {
          "base_uri": "https://localhost:8080/"
        },
        "id": "BE0iDJvGIJ5s",
        "outputId": "39fb18eb-192a-4cf9-a393-941d983ceb12"
      },
      "execution_count": 75,
      "outputs": [
        {
          "output_type": "stream",
          "name": "stdout",
          "text": [
            "[1, 2, 3]\n",
            "[1, 2, 3, 'A', 'B', 'C', 4, 5, 6]\n"
          ]
        }
      ]
    },
    {
      "cell_type": "code",
      "source": [
        "# Demo on sort()\n",
        "L = [3, 6, 2, 1, -5, -34]\n",
        "L.sort()\n",
        "print(L)"
      ],
      "metadata": {
        "colab": {
          "base_uri": "https://localhost:8080/"
        },
        "id": "R7qY_BR2Iokm",
        "outputId": "134d03d8-5fb2-4e2f-8393-4acfe71d137f"
      },
      "execution_count": 79,
      "outputs": [
        {
          "output_type": "stream",
          "name": "stdout",
          "text": [
            "[-34, -5, 1, 2, 3, 6]\n"
          ]
        }
      ]
    },
    {
      "cell_type": "code",
      "source": [
        "# Demo on reverse()\n",
        "L.reverse()\n",
        "print(L)"
      ],
      "metadata": {
        "colab": {
          "base_uri": "https://localhost:8080/"
        },
        "id": "wJzLNnpUJTFr",
        "outputId": "e34bc485-6dfe-466d-b80f-49f9f8f62781"
      },
      "execution_count": 80,
      "outputs": [
        {
          "output_type": "stream",
          "name": "stdout",
          "text": [
            "[6, 3, 2, 1, -5, -34]\n"
          ]
        }
      ]
    },
    {
      "cell_type": "code",
      "source": [
        "# Demo on insert()\n",
        "L = [1, 2, 4, 5]\n",
        "print(L)\n",
        "L.insert(2, 3)\n",
        "print(L)\n",
        "L.insert(20, 6)\n",
        "print(L)"
      ],
      "metadata": {
        "colab": {
          "base_uri": "https://localhost:8080/"
        },
        "id": "bhak9hL5Jbiw",
        "outputId": "195a2dec-8e26-4757-82a1-6061f82c03b1"
      },
      "execution_count": 85,
      "outputs": [
        {
          "output_type": "stream",
          "name": "stdout",
          "text": [
            "[1, 2, 4, 5]\n",
            "[1, 2, 3, 4, 5]\n",
            "[1, 2, 3, 4, 5, 6]\n"
          ]
        }
      ]
    },
    {
      "cell_type": "code",
      "source": [
        "# Demo on remove() - it takes element as argument\n",
        "L = [1, 2, 3, 4, 5]\n",
        "print(L)\n",
        "L.remove(1)\n",
        "print(L)"
      ],
      "metadata": {
        "colab": {
          "base_uri": "https://localhost:8080/"
        },
        "id": "rP5BuQYRJ8mi",
        "outputId": "5965c00f-29f9-47c4-fd6e-3d1b4902ee81"
      },
      "execution_count": 86,
      "outputs": [
        {
          "output_type": "stream",
          "name": "stdout",
          "text": [
            "[1, 2, 3, 4, 5]\n",
            "[2, 3, 4, 5]\n"
          ]
        }
      ]
    },
    {
      "cell_type": "code",
      "source": [
        "# Demo on copy()\n",
        "L = [1, 2, 3, 4, 5]\n",
        "print(L)\n",
        "M = L.copy()\n",
        "print(M)\n",
        "print(L)"
      ],
      "metadata": {
        "colab": {
          "base_uri": "https://localhost:8080/"
        },
        "id": "2uYbTwRMKdQH",
        "outputId": "007b122e-64a3-4fc7-8051-77f0bb974c1c"
      },
      "execution_count": 90,
      "outputs": [
        {
          "output_type": "stream",
          "name": "stdout",
          "text": [
            "[1, 2, 3, 4, 5]\n",
            "[1, 2, 3, 4, 5]\n",
            "[1, 2, 3, 4, 5]\n"
          ]
        }
      ]
    },
    {
      "cell_type": "code",
      "source": [
        "# Demo on clear()\n",
        "print(M)\n",
        "M.clear()\n",
        "print(M)"
      ],
      "metadata": {
        "colab": {
          "base_uri": "https://localhost:8080/"
        },
        "id": "lHul-khXLIRd",
        "outputId": "3b2e9247-26c6-4f44-fbc6-e0b56c7466ee"
      },
      "execution_count": 92,
      "outputs": [
        {
          "output_type": "stream",
          "name": "stdout",
          "text": [
            "[1, 2, 3, 4, 5]\n",
            "[]\n"
          ]
        }
      ]
    },
    {
      "cell_type": "code",
      "source": [
        "print(L)"
      ],
      "metadata": {
        "colab": {
          "base_uri": "https://localhost:8080/"
        },
        "id": "8E4J5nMhLTID",
        "outputId": "0239cf5a-3b5e-4b36-e5d9-cfcdd5baac08"
      },
      "execution_count": 93,
      "outputs": [
        {
          "output_type": "stream",
          "name": "stdout",
          "text": [
            "[1, 2, 3, 4, 5]\n"
          ]
        }
      ]
    },
    {
      "cell_type": "code",
      "source": [
        "# Sample demo on Assignment of List\n",
        "L = [1, 2, 3, 4, 5]\n",
        "M = L\n",
        "print(L)\n",
        "print(M)\n",
        "L.append(7)\n",
        "print(L)\n",
        "print(M)"
      ],
      "metadata": {
        "colab": {
          "base_uri": "https://localhost:8080/"
        },
        "id": "WCN-YfteLZ7D",
        "outputId": "91302d55-f99c-4315-a3d3-a377b5dc8bcf"
      },
      "execution_count": 97,
      "outputs": [
        {
          "output_type": "stream",
          "name": "stdout",
          "text": [
            "[1, 2, 3, 4, 5]\n",
            "[1, 2, 3, 4, 5]\n",
            "[1, 2, 3, 4, 5, 7]\n",
            "[1, 2, 3, 4, 5, 7]\n"
          ]
        }
      ]
    },
    {
      "cell_type": "code",
      "source": [
        ""
      ],
      "metadata": {
        "id": "KSM1FTWRLn5p"
      },
      "execution_count": null,
      "outputs": []
    }
  ]
}