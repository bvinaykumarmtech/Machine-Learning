{
  "nbformat": 4,
  "nbformat_minor": 0,
  "metadata": {
    "colab": {
      "name": "Machine Learning.ipynb",
      "provenance": [],
      "authorship_tag": "ABX9TyPusK4Ey5hNEAMiC6jYbaxm",
      "include_colab_link": true
    },
    "kernelspec": {
      "name": "python3",
      "display_name": "Python 3"
    },
    "language_info": {
      "name": "python"
    }
  },
  "cells": [
    {
      "cell_type": "markdown",
      "metadata": {
        "id": "view-in-github",
        "colab_type": "text"
      },
      "source": [
        "<a href=\"https://colab.research.google.com/github/bvinaykumarmtech/Machine-Learning/blob/main/Machine_Learning.ipynb\" target=\"_parent\"><img src=\"https://colab.research.google.com/assets/colab-badge.svg\" alt=\"Open In Colab\"/></a>"
      ]
    },
    {
      "cell_type": "code",
      "execution_count": 6,
      "metadata": {
        "colab": {
          "base_uri": "https://localhost:8080/"
        },
        "id": "1tjRkbrN9Zrp",
        "outputId": "b9d283d7-2026-4aa4-b302-8119c0e66e8b"
      },
      "outputs": [
        {
          "output_type": "stream",
          "name": "stdout",
          "text": [
            "[10 20 30 40 50]\n",
            "<class 'numpy.ndarray'>\n"
          ]
        },
        {
          "output_type": "execute_result",
          "data": {
            "text/plain": [
              "array([10, 20, 30, 40, 50])"
            ]
          },
          "metadata": {},
          "execution_count": 6
        }
      ],
      "source": [
        "# Creation of 1-D Arrays\n",
        "import numpy as np\n",
        "n1 = np.array([10, 20, 30, 40, 50])\n",
        "print(n1)\n",
        "print(type(n1))\n",
        "n1"
      ]
    },
    {
      "cell_type": "code",
      "source": [
        "# Creation of 2-D Arrays\n",
        "import numpy as np\n",
        "n2 = np.array([[10, 20, 30, 40, 50],[50, 40, 30, 20, 10]])\n",
        "print(n2)\n",
        "print(type(n2))\n",
        "n2"
      ],
      "metadata": {
        "colab": {
          "base_uri": "https://localhost:8080/"
        },
        "id": "9DnZH40T9iSC",
        "outputId": "a21bf77f-b1a8-4a13-d88e-30e1db973339"
      },
      "execution_count": 7,
      "outputs": [
        {
          "output_type": "stream",
          "name": "stdout",
          "text": [
            "[[10 20 30 40 50]\n",
            " [50 40 30 20 10]]\n",
            "<class 'numpy.ndarray'>\n"
          ]
        },
        {
          "output_type": "execute_result",
          "data": {
            "text/plain": [
              "array([[10, 20, 30, 40, 50],\n",
              "       [50, 40, 30, 20, 10]])"
            ]
          },
          "metadata": {},
          "execution_count": 7
        }
      ]
    },
    {
      "cell_type": "code",
      "source": [
        "# Initializing NumPy array with zeros\n",
        "import numpy as np\n",
        "n1 = np.zeros((1,2))\n",
        "n1"
      ],
      "metadata": {
        "colab": {
          "base_uri": "https://localhost:8080/"
        },
        "id": "sc00t0Aq956F",
        "outputId": "a5f0bcbe-0d03-439c-de62-0bf1376a9e61"
      },
      "execution_count": 10,
      "outputs": [
        {
          "output_type": "execute_result",
          "data": {
            "text/plain": [
              "array([[0., 0.]])"
            ]
          },
          "metadata": {},
          "execution_count": 10
        }
      ]
    },
    {
      "cell_type": "code",
      "source": [
        "# Initializing NumPy array with zeros\n",
        "import numpy as np\n",
        "n1 = np.zeros((5,5))\n",
        "n1"
      ],
      "metadata": {
        "colab": {
          "base_uri": "https://localhost:8080/"
        },
        "id": "22Gtp8Tc-gmy",
        "outputId": "0f1fa826-e515-43f6-e17f-cbbf3aa5994e"
      },
      "execution_count": 11,
      "outputs": [
        {
          "output_type": "execute_result",
          "data": {
            "text/plain": [
              "array([[0., 0., 0., 0., 0.],\n",
              "       [0., 0., 0., 0., 0.],\n",
              "       [0., 0., 0., 0., 0.],\n",
              "       [0., 0., 0., 0., 0.],\n",
              "       [0., 0., 0., 0., 0.]])"
            ]
          },
          "metadata": {},
          "execution_count": 11
        }
      ]
    },
    {
      "cell_type": "code",
      "source": [
        "# Initializing NumPy array with same number\n",
        "# It will take 2 parameters First is dimensions Second is value to be filled\n",
        "import numpy as np\n",
        "n1 = np.full((3, 3),(5))\n",
        "n1"
      ],
      "metadata": {
        "colab": {
          "base_uri": "https://localhost:8080/"
        },
        "id": "_OIyCsqY-w26",
        "outputId": "7e3be6ae-9f1b-4d27-90e6-d7cc12b53372"
      },
      "execution_count": 13,
      "outputs": [
        {
          "output_type": "execute_result",
          "data": {
            "text/plain": [
              "array([[5, 5, 5],\n",
              "       [5, 5, 5],\n",
              "       [5, 5, 5]])"
            ]
          },
          "metadata": {},
          "execution_count": 13
        }
      ]
    },
    {
      "cell_type": "code",
      "source": [
        "# Initializing NumPy array within a range\n",
        "# It will take 2 parameters First is starting Second is value is stop-1\n",
        "import numpy as np\n",
        "n1 = np.arange(10, 20)\n",
        "n1"
      ],
      "metadata": {
        "colab": {
          "base_uri": "https://localhost:8080/"
        },
        "id": "TMJYsKWV_PXT",
        "outputId": "51031063-39f5-443f-fd0b-a71df45dddd9"
      },
      "execution_count": 15,
      "outputs": [
        {
          "output_type": "execute_result",
          "data": {
            "text/plain": [
              "array([10, 13, 16, 19, 22, 25, 28])"
            ]
          },
          "metadata": {},
          "execution_count": 15
        }
      ]
    },
    {
      "cell_type": "code",
      "source": [
        "# Initializing NumPy array within a range\n",
        "# It will take 3 parameters First is starting Second is value is stop-1 third is step\n",
        "import numpy as np\n",
        "n1 = np.arange(10, 30, 2)\n",
        "n1"
      ],
      "metadata": {
        "colab": {
          "base_uri": "https://localhost:8080/"
        },
        "id": "Zu3xR0Z9_0az",
        "outputId": "a321c42c-8113-4b31-aa98-e7b1f9bafc1c"
      },
      "execution_count": 17,
      "outputs": [
        {
          "output_type": "execute_result",
          "data": {
            "text/plain": [
              "array([10, 12, 14, 16, 18, 20, 22, 24, 26, 28])"
            ]
          },
          "metadata": {},
          "execution_count": 17
        }
      ]
    },
    {
      "cell_type": "code",
      "source": [
        "# Initializing NumPy array with random numbers\n",
        "# It will take 3 parameters First is starting Second is value is stop third is 5 random numbers\n",
        "import numpy as np\n",
        "n1 = np.random.randint(1, 100, 5)\n",
        "n1"
      ],
      "metadata": {
        "colab": {
          "base_uri": "https://localhost:8080/"
        },
        "id": "rPZfgDEzAAlA",
        "outputId": "df122cc7-e464-4678-df4a-80dee6b5af2c"
      },
      "execution_count": 20,
      "outputs": [
        {
          "output_type": "execute_result",
          "data": {
            "text/plain": [
              "array([59, 80, 89, 89, 80])"
            ]
          },
          "metadata": {},
          "execution_count": 20
        }
      ]
    },
    {
      "cell_type": "code",
      "source": [
        "# Checking the shape of NumPy arrays\n",
        "import numpy as np\n",
        "n1 = np.array([[1, 2, 3],[4, 5, 6]])\n",
        "n1.shape"
      ],
      "metadata": {
        "colab": {
          "base_uri": "https://localhost:8080/"
        },
        "id": "ry6tGdNlBMr_",
        "outputId": "eca30811-48cf-47c5-9ba4-923684cb24c9"
      },
      "execution_count": 21,
      "outputs": [
        {
          "output_type": "execute_result",
          "data": {
            "text/plain": [
              "(2, 3)"
            ]
          },
          "metadata": {},
          "execution_count": 21
        }
      ]
    },
    {
      "cell_type": "code",
      "source": [
        "# Checking the shape of NumPy arrays\n",
        "import numpy as np\n",
        "n1 = np.array([[1, 2, 3],[4, 5, 6]])\n",
        "n1.shape = (3,2)\n",
        "n1"
      ],
      "metadata": {
        "colab": {
          "base_uri": "https://localhost:8080/"
        },
        "id": "x5DQeCH4BlMv",
        "outputId": "885de140-d874-47ed-c0e0-e844a48f5c98"
      },
      "execution_count": 24,
      "outputs": [
        {
          "output_type": "execute_result",
          "data": {
            "text/plain": [
              "array([[1, 2],\n",
              "       [3, 4],\n",
              "       [5, 6]])"
            ]
          },
          "metadata": {},
          "execution_count": 24
        }
      ]
    },
    {
      "cell_type": "code",
      "source": [
        "# vstack()\n",
        "import numpy as np\n",
        "n1=np.array([10, 20, 30])\n",
        "n2=np.array([40, 50, 60])\n",
        "np.vstack((n1,n2))"
      ],
      "metadata": {
        "colab": {
          "base_uri": "https://localhost:8080/"
        },
        "id": "puc6rk7JCFYQ",
        "outputId": "502a55b0-6f07-4dc8-958a-40c18ce3d6ef"
      },
      "execution_count": 25,
      "outputs": [
        {
          "output_type": "execute_result",
          "data": {
            "text/plain": [
              "array([[10, 20, 30],\n",
              "       [40, 50, 60]])"
            ]
          },
          "metadata": {},
          "execution_count": 25
        }
      ]
    },
    {
      "cell_type": "code",
      "source": [
        "# hstack()\n",
        "import numpy as np\n",
        "n1=np.array([10, 20, 30])\n",
        "n2=np.array([40, 50, 60])\n",
        "np.hstack((n1,n2))"
      ],
      "metadata": {
        "colab": {
          "base_uri": "https://localhost:8080/"
        },
        "id": "ye4mc-NTDvRR",
        "outputId": "6f5477f8-03c6-4bcf-a498-e6fccea4067d"
      },
      "execution_count": 26,
      "outputs": [
        {
          "output_type": "execute_result",
          "data": {
            "text/plain": [
              "array([10, 20, 30, 40, 50, 60])"
            ]
          },
          "metadata": {},
          "execution_count": 26
        }
      ]
    },
    {
      "cell_type": "code",
      "source": [
        "# column_stack()\n",
        "import numpy as np\n",
        "n1=np.array([10, 20, 30])\n",
        "n2=np.array([40, 50, 60])\n",
        "np.column_stack((n1,n2))"
      ],
      "metadata": {
        "colab": {
          "base_uri": "https://localhost:8080/"
        },
        "id": "r4sJd4H8D0gg",
        "outputId": "73a507d1-8870-4a78-d1d4-99be3a05db9f"
      },
      "execution_count": 27,
      "outputs": [
        {
          "output_type": "execute_result",
          "data": {
            "text/plain": [
              "array([[10, 40],\n",
              "       [20, 50],\n",
              "       [30, 60]])"
            ]
          },
          "metadata": {},
          "execution_count": 27
        }
      ]
    },
    {
      "cell_type": "code",
      "source": [
        "# NumPy Intersection & Difference\n",
        "import numpy as np\n",
        "n1 = np.array([10, 20, 30, 40, 50, 60])\n",
        "n2 = np.array([50, 60, 70, 80, 90])\n",
        "np.intersect1d(n1,n2)"
      ],
      "metadata": {
        "colab": {
          "base_uri": "https://localhost:8080/"
        },
        "id": "00HHii1TEx4q",
        "outputId": "bb25871d-e57f-4041-a572-8c27d4fd7951"
      },
      "execution_count": 28,
      "outputs": [
        {
          "output_type": "execute_result",
          "data": {
            "text/plain": [
              "array([50, 60])"
            ]
          },
          "metadata": {},
          "execution_count": 28
        }
      ]
    },
    {
      "cell_type": "code",
      "source": [
        "# NumPy Intersection & Difference\n",
        "import numpy as np\n",
        "n1 = np.array([10, 20, 30, 40, 50, 60])\n",
        "n2 = np.array([50, 60, 70, 80, 90])\n",
        "np.setdiff1d(n1,n2)"
      ],
      "metadata": {
        "colab": {
          "base_uri": "https://localhost:8080/"
        },
        "id": "XSTFUA2kFUN2",
        "outputId": "90f2bdb8-3173-4261-d9d5-877504e9ef00"
      },
      "execution_count": 29,
      "outputs": [
        {
          "output_type": "execute_result",
          "data": {
            "text/plain": [
              "array([10, 20, 30, 40])"
            ]
          },
          "metadata": {},
          "execution_count": 29
        }
      ]
    },
    {
      "cell_type": "code",
      "source": [
        "# NumPy Intersection & Difference\n",
        "import numpy as np\n",
        "n1 = np.array([10, 20, 30, 40, 50, 60])\n",
        "n2 = np.array([50, 60, 70, 80, 90])\n",
        "np.setdiff1d(n2,n1)"
      ],
      "metadata": {
        "colab": {
          "base_uri": "https://localhost:8080/"
        },
        "id": "wMyGRaC_Ff-M",
        "outputId": "34ead50d-f74c-46fe-c080-15c8f559c6c3"
      },
      "execution_count": 30,
      "outputs": [
        {
          "output_type": "execute_result",
          "data": {
            "text/plain": [
              "array([70, 80, 90])"
            ]
          },
          "metadata": {},
          "execution_count": 30
        }
      ]
    },
    {
      "cell_type": "code",
      "source": [
        "# NumPy Array Mathematics\n",
        "# Addition of NumPy Arrays\n",
        "import numpy as np\n",
        "n1=np.array([10, 20])\n",
        "n2=np.array([30, 40])\n",
        "np.sum([n1, n2])"
      ],
      "metadata": {
        "colab": {
          "base_uri": "https://localhost:8080/"
        },
        "id": "yjKSa7SjFkN_",
        "outputId": "45206d21-7931-4dbe-b03c-58ac3ff5d1d9"
      },
      "execution_count": 33,
      "outputs": [
        {
          "output_type": "execute_result",
          "data": {
            "text/plain": [
              "100"
            ]
          },
          "metadata": {},
          "execution_count": 33
        }
      ]
    },
    {
      "cell_type": "code",
      "source": [
        "# NumPy Array Mathematics\n",
        "# Addition of NumPy Arrays\n",
        "import numpy as np\n",
        "n1=np.array([10, 20])\n",
        "n2=np.array([30, 40])\n",
        "np.sum([n1, n2], axis=0)"
      ],
      "metadata": {
        "colab": {
          "base_uri": "https://localhost:8080/"
        },
        "id": "YiuTuUWXGXCw",
        "outputId": "d3263ee6-a132-43ec-8ef8-037184c47333"
      },
      "execution_count": 34,
      "outputs": [
        {
          "output_type": "execute_result",
          "data": {
            "text/plain": [
              "array([40, 60])"
            ]
          },
          "metadata": {},
          "execution_count": 34
        }
      ]
    },
    {
      "cell_type": "code",
      "source": [
        "# NumPy Array Mathematics\n",
        "# Addition of NumPy Arrays\n",
        "import numpy as np\n",
        "n1=np.array([10, 20])\n",
        "n2=np.array([30, 40])\n",
        "np.sum([n1, n2], axis=1)"
      ],
      "metadata": {
        "colab": {
          "base_uri": "https://localhost:8080/"
        },
        "id": "TKz8GFDOGj9Q",
        "outputId": "58edb734-671e-44f2-c7eb-843d72b196dd"
      },
      "execution_count": 35,
      "outputs": [
        {
          "output_type": "execute_result",
          "data": {
            "text/plain": [
              "array([30, 70])"
            ]
          },
          "metadata": {},
          "execution_count": 35
        }
      ]
    },
    {
      "cell_type": "code",
      "source": [
        "# NumPy Array Mathematics\n",
        "# Basic Addition\n",
        "import numpy as np\n",
        "n1=np.array([10, 20, 30])\n",
        "n1=n1+1\n",
        "n1"
      ],
      "metadata": {
        "colab": {
          "base_uri": "https://localhost:8080/"
        },
        "id": "nnCVxD9QGznQ",
        "outputId": "4f53d8ba-f736-47e3-b477-99c116843d6d"
      },
      "execution_count": 36,
      "outputs": [
        {
          "output_type": "execute_result",
          "data": {
            "text/plain": [
              "array([11, 21, 31])"
            ]
          },
          "metadata": {},
          "execution_count": 36
        }
      ]
    },
    {
      "cell_type": "code",
      "source": [
        "# NumPy Array Mathematics\n",
        "# Basic Multiplication\n",
        "import numpy as np\n",
        "n1=np.array([10, 20, 30])\n",
        "n1=n1*2\n",
        "n1"
      ],
      "metadata": {
        "colab": {
          "base_uri": "https://localhost:8080/"
        },
        "id": "uulaSx7qHrOK",
        "outputId": "78d4437a-052b-4bfc-b92e-7c335ab8785b"
      },
      "execution_count": 37,
      "outputs": [
        {
          "output_type": "execute_result",
          "data": {
            "text/plain": [
              "array([20, 40, 60])"
            ]
          },
          "metadata": {},
          "execution_count": 37
        }
      ]
    },
    {
      "cell_type": "code",
      "source": [
        "# NumPy Array Mathematics\n",
        "# Basic Subtraction\n",
        "import numpy as np\n",
        "n1=np.array([10, 20, 30])\n",
        "n1=n1-1\n",
        "n1"
      ],
      "metadata": {
        "colab": {
          "base_uri": "https://localhost:8080/"
        },
        "id": "vUwSkWz7HxJk",
        "outputId": "f588c6c8-bd87-4fcf-ea7d-1ef6470f8224"
      },
      "execution_count": 38,
      "outputs": [
        {
          "output_type": "execute_result",
          "data": {
            "text/plain": [
              "array([ 9, 19, 29])"
            ]
          },
          "metadata": {},
          "execution_count": 38
        }
      ]
    },
    {
      "cell_type": "code",
      "source": [
        "# NumPy Array Mathematics\n",
        "# Basic Division\n",
        "import numpy as np\n",
        "n1=np.array([10, 20, 30])\n",
        "n1=n1/2\n",
        "n1"
      ],
      "metadata": {
        "colab": {
          "base_uri": "https://localhost:8080/"
        },
        "id": "5TIPq2svH2PF",
        "outputId": "224167cf-ae62-4bd2-f445-4814ad4e93e0"
      },
      "execution_count": 39,
      "outputs": [
        {
          "output_type": "execute_result",
          "data": {
            "text/plain": [
              "array([ 5., 10., 15.])"
            ]
          },
          "metadata": {},
          "execution_count": 39
        }
      ]
    },
    {
      "cell_type": "code",
      "source": [
        "# NumPy Math Functions\n",
        "# Mean\n",
        "import numpy as np\n",
        "n1=np.array([10, 20, 30, 40, 50, 60])\n",
        "np.mean(n1)"
      ],
      "metadata": {
        "colab": {
          "base_uri": "https://localhost:8080/"
        },
        "id": "Ew5xV-gKH7em",
        "outputId": "08e61037-ae4e-4639-bca3-ac50a9f0057a"
      },
      "execution_count": 40,
      "outputs": [
        {
          "output_type": "execute_result",
          "data": {
            "text/plain": [
              "35.0"
            ]
          },
          "metadata": {},
          "execution_count": 40
        }
      ]
    },
    {
      "cell_type": "code",
      "source": [
        "# NumPy Math Functions\n",
        "# Median\n",
        "import numpy as np\n",
        "n1=np.array([11, 44, 5, 96, 67, 85])\n",
        "np.median(n1)"
      ],
      "metadata": {
        "colab": {
          "base_uri": "https://localhost:8080/"
        },
        "id": "lBSj64dzJV2e",
        "outputId": "1f2d1dbd-96a3-4edd-aa4c-fad5d602c950"
      },
      "execution_count": 44,
      "outputs": [
        {
          "output_type": "execute_result",
          "data": {
            "text/plain": [
              "55.5"
            ]
          },
          "metadata": {},
          "execution_count": 44
        }
      ]
    },
    {
      "cell_type": "code",
      "source": [
        "# NumPy Math Functions\n",
        "# Standard Deviation\n",
        "import numpy as np\n",
        "n1=np.array([1, 5, 3, 100, 4, 48])\n",
        "np.std(n1)"
      ],
      "metadata": {
        "colab": {
          "base_uri": "https://localhost:8080/"
        },
        "id": "5YJRXDKPJZov",
        "outputId": "b323f34e-e900-4335-ca80-8bf18f258e3f"
      },
      "execution_count": 45,
      "outputs": [
        {
          "output_type": "execute_result",
          "data": {
            "text/plain": [
              "36.59424666377065"
            ]
          },
          "metadata": {},
          "execution_count": 45
        }
      ]
    },
    {
      "cell_type": "code",
      "source": [
        ""
      ],
      "metadata": {
        "id": "hXzjOXXFJpIb"
      },
      "execution_count": null,
      "outputs": []
    }
  ]
}
